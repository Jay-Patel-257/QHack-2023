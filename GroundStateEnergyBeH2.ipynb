{
  "nbformat": 4,
  "nbformat_minor": 0,
  "metadata": {
    "colab": {
      "provenance": [],
      "authorship_tag": "ABX9TyPPsG+YLtkGibn/zXRBToSf"
    },
    "kernelspec": {
      "name": "python3",
      "display_name": "Python 3"
    },
    "language_info": {
      "name": "python"
    }
  },
  "cells": [
    {
      "cell_type": "markdown",
      "source": [
        "## **Team:** Parmanu\n",
        "\n",
        "## **Title:** Ground State Energy of $BeH_2$ at different bond length using VQE"
      ],
      "metadata": {
        "id": "I2IDneP0fCoZ"
      }
    },
    {
      "cell_type": "markdown",
      "source": [
        "## **Aim:**\n",
        "This project is aimed at finding the ground state energy of Beryllium Hydride ($BeH_2$) at differennt bond length between Berillium($Be$) and Hydrogen($H$) atoms. To do so we use Hybrid Quantum Classical algorithm called Variational Quantum Eigensolver or VQE for $BeH_2$ molecule at equilibrium angle $180^o$ ($H - Be  - H$)."
      ],
      "metadata": {
        "id": "STWu-wB_etVp"
      }
    },
    {
      "cell_type": "markdown",
      "source": [
        "### **Required Modules:**"
      ],
      "metadata": {
        "id": "GpBDY9Doh4cG"
      }
    },
    {
      "cell_type": "code",
      "source": [
        "!pip install qiskit\n",
        "!pip install qiskit-nature\n",
        "!pip install pyscf"
      ],
      "metadata": {
        "id": "5wNHBBSkiFDq"
      },
      "execution_count": null,
      "outputs": []
    },
    {
      "cell_type": "markdown",
      "source": [
        "**Note:** Restart the kerenl after running above cell."
      ],
      "metadata": {
        "id": "g1NQd442iYRU"
      }
    },
    {
      "cell_type": "markdown",
      "source": [
        "###  **Imports:**"
      ],
      "metadata": {
        "id": "1rgrLNLofbRG"
      }
    },
    {
      "cell_type": "code",
      "source": [
        "# General Imports\n",
        "import numpy as np\n",
        "import matplotlib.pyplot as plt\n",
        "\n",
        "# Qiskit Imports\n",
        "from qiskit.tools.jupyter import *\n",
        "from qiskit.primitives import Estimator\n",
        "from qiskit.algorithms.optimizers import SPSA\n",
        "from qiskit.circuit.library import EfficientSU2\n",
        "from qiskit.algorithms.minimum_eigensolvers import VQE\n",
        "from qiskit.algorithms.minimum_eigensolvers import NumPyMinimumEigensolver\n",
        "\n",
        "# Qiskit-Nature Imports\n",
        "from qiskit_nature.units import DistanceUnit\n",
        "from qiskit_nature.second_q.drivers import PySCFDriver\n",
        "from qiskit_nature.second_q.mappers import ParityMapper\n",
        "from qiskit_nature.second_q.mappers import QubitConverter\n",
        "from qiskit_nature.second_q.transformers import ActiveSpaceTransformer\n",
        "from qiskit_nature.second_q.algorithms.ground_state_solvers import GroundStateEigensolver"
      ],
      "metadata": {
        "id": "tWFGWXRBdN2J"
      },
      "execution_count": 224,
      "outputs": []
    },
    {
      "cell_type": "markdown",
      "source": [
        "### **Helper Functions:**"
      ],
      "metadata": {
        "id": "Jy60bWgwfvS8"
      }
    },
    {
      "cell_type": "code",
      "source": [
        "# Returns a PySCF Driver of BeH2 molecule at a given bond length\n",
        "def get_driver(dist):\n",
        "    # Define driver for BeH2 Molecule\n",
        "    driver = PySCFDriver(\n",
        "        atom=f\"Be 0 0 0; H -{dist} 0 0; H {dist} 0 0\",\n",
        "        basis=\"sto3g\",\n",
        "        charge=0,\n",
        "        spin=0,\n",
        "        unit=DistanceUnit.ANGSTROM,\n",
        "    )\n",
        "    return driver\n",
        "\n",
        "# Applies active space transform on the problem/property\n",
        "def transform(problem):\n",
        "    # specify active space transformation\n",
        "    active_space_trafo = ActiveSpaceTransformer(\n",
        "        num_electrons=problem.num_particles, \n",
        "        num_spatial_orbitals=3\n",
        "    )\n",
        "    # transform the electronic structure problem\n",
        "    problem = active_space_trafo.transform(problem)\n",
        "    return problem\n",
        "\n",
        "# Returns result of exact energy calculation\n",
        "def exact_solver(problem, converter):\n",
        "    # Define the classical Numpy solver\n",
        "    solver = NumPyMinimumEigensolver()\n",
        "    groundstate_solver = GroundStateEigensolver(converter, solver)\n",
        "    result = groundstate_solver.solve(problem)\n",
        "    return result\n",
        "\n",
        "# Returns the prepared Ansatz\n",
        "def get_ansatz(n):\n",
        "    # Define the Ansatz\n",
        "    ansatz = EfficientSU2(\n",
        "        num_qubits = n, \n",
        "        reps = 1, \n",
        "        entanglement = \"linear\", \n",
        "        insert_barriers=True\n",
        "    )\n",
        "    return ansatz\n",
        "\n",
        "# Returns result of vqe calcultion\n",
        "def vqe_solver(problem, converter, n):\n",
        "    # Define the VQE solver\n",
        "    solver = VQE(\n",
        "        estimator = Estimator(), \n",
        "        ansatz = get_ansatz(n), \n",
        "        optimizer = SPSA(maxiter = 1500)\n",
        "    )\n",
        "    groundstate_solver = GroundStateEigensolver(converter, solver)\n",
        "    result = groundstate_solver.solve(problem)\n",
        "    return result"
      ],
      "metadata": {
        "id": "-VbLXOv74HCT"
      },
      "execution_count": 210,
      "outputs": []
    },
    {
      "cell_type": "markdown",
      "source": [
        "### **Initialization:**"
      ],
      "metadata": {
        "id": "6Th8raxxlZMe"
      }
    },
    {
      "cell_type": "code",
      "source": [
        "# Different Bond Legths\n",
        "distances = np.arange(0.3, 4.0, 0.1)\n",
        "\n",
        "exact_energies = []\n",
        "vqe_energies = []"
      ],
      "metadata": {
        "id": "0Pq7Fb1z3YBT"
      },
      "execution_count": 218,
      "outputs": []
    },
    {
      "cell_type": "markdown",
      "source": [
        "### **Optimization:**"
      ],
      "metadata": {
        "id": "peqNGGn1lefU"
      }
    },
    {
      "cell_type": "code",
      "source": [
        "for dist in distances:\n",
        "\n",
        "    # Define the problem using driver\n",
        "    problem = get_driver(dist).run()\n",
        "\n",
        "    # apply transformation\n",
        "    problem = transform(problem)\n",
        "\n",
        "    # Define Qubit Converter\n",
        "    converter = QubitConverter(ParityMapper(), two_qubit_reduction=True)\n",
        "\n",
        "    # Find and store the exact ground state energies\n",
        "    result = exact_solver(problem,converter)\n",
        "    exact_energies.append(result.total_energies[0].real)\n",
        "\n",
        "    # Find and store the VQE ground state energies\n",
        "    vqe_result = vqe_solver(problem, converter, 4)\n",
        "    vqe_energies.append(vqe_result.total_energies[0].real)\n",
        "\n",
        "    print(f\"Interatomic Distance: {np.round(dist, 2)}\",\n",
        "          f\"VQE Result: {vqe_energies[-1]:.5f}\",\n",
        "          f\"Exact Energy: {exact_energies[-1]:.5f}\")\n",
        "\n",
        "print(\"All energies have been calculated\")"
      ],
      "metadata": {
        "colab": {
          "base_uri": "https://localhost:8080/"
        },
        "id": "B9d_Gyb838Qj",
        "outputId": "ceeb1bac-674c-4456-9397-fa183425680f"
      },
      "execution_count": 219,
      "outputs": [
        {
          "output_type": "stream",
          "name": "stdout",
          "text": [
            "Interatomic Distance: 0.3 VQE Result: -10.32979 Exact Energy: -10.33001\n",
            "Interatomic Distance: 0.4 VQE Result: -12.48561 Exact Energy: -12.48573\n",
            "Interatomic Distance: 0.5 VQE Result: -13.64568 Exact Energy: -13.64614\n",
            "Interatomic Distance: 0.6 VQE Result: -14.36861 Exact Energy: -14.37008\n",
            "Interatomic Distance: 0.7 VQE Result: -14.84143 Exact Energy: -14.84144\n",
            "Interatomic Distance: 0.8 VQE Result: -15.13767 Exact Energy: -15.14600\n",
            "Interatomic Distance: 0.9 VQE Result: -15.33845 Exact Energy: -15.33846\n",
            "Interatomic Distance: 1.0 VQE Result: -15.45560 Exact Energy: -15.45567\n",
            "Interatomic Distance: 1.1 VQE Result: -15.52130 Exact Energy: -15.52200\n",
            "Interatomic Distance: 1.2 VQE Result: -15.55351 Exact Energy: -15.55359\n",
            "Interatomic Distance: 1.3 VQE Result: -15.56113 Exact Energy: -15.56128\n",
            "Interatomic Distance: 1.4 VQE Result: -15.55246 Exact Energy: -15.55246\n",
            "Interatomic Distance: 1.5 VQE Result: -15.53179 Exact Energy: -15.53221\n",
            "Interatomic Distance: 1.6 VQE Result: -15.50394 Exact Energy: -15.50409\n",
            "Interatomic Distance: 1.7 VQE Result: -15.47030 Exact Energy: -15.47061\n",
            "Interatomic Distance: 1.8 VQE Result: -15.42935 Exact Energy: -15.43363\n",
            "Interatomic Distance: 1.9 VQE Result: -15.39382 Exact Energy: -15.39454\n",
            "Interatomic Distance: 2.0 VQE Result: -15.35398 Exact Energy: -15.35442\n",
            "Interatomic Distance: 2.1 VQE Result: -15.31188 Exact Energy: -15.31411\n",
            "Interatomic Distance: 2.2 VQE Result: -15.25583 Exact Energy: -15.27431\n",
            "Interatomic Distance: 2.3 VQE Result: -15.23382 Exact Energy: -15.23558\n",
            "Interatomic Distance: 2.4 VQE Result: -15.19830 Exact Energy: -15.19837\n",
            "Interatomic Distance: 2.5 VQE Result: -15.16277 Exact Energy: -15.16307\n",
            "Interatomic Distance: 2.6 VQE Result: -15.11441 Exact Energy: -15.12999\n",
            "Interatomic Distance: 2.7 VQE Result: -15.09885 Exact Energy: -15.09939\n",
            "Interatomic Distance: 2.8 VQE Result: -15.07143 Exact Energy: -15.07147\n",
            "Interatomic Distance: 2.9 VQE Result: -15.04388 Exact Energy: -15.04637\n",
            "Interatomic Distance: 3.0 VQE Result: -15.01759 Exact Energy: -15.02421\n",
            "Interatomic Distance: 3.1 VQE Result: -15.00489 Exact Energy: -15.00503\n",
            "Interatomic Distance: 3.2 VQE Result: -14.98854 Exact Energy: -14.98881\n",
            "Interatomic Distance: 3.3 VQE Result: -14.95745 Exact Energy: -14.97541\n",
            "Interatomic Distance: 3.4 VQE Result: -14.96311 Exact Energy: -14.96459\n",
            "Interatomic Distance: 3.5 VQE Result: -14.95018 Exact Energy: -14.95602\n",
            "Interatomic Distance: 3.6 VQE Result: -14.93450 Exact Energy: -14.94932\n",
            "Interatomic Distance: 3.7 VQE Result: -14.93964 Exact Energy: -14.94413\n",
            "Interatomic Distance: 3.8 VQE Result: -14.82399 Exact Energy: -14.94011\n",
            "Interatomic Distance: 3.9 VQE Result: -14.93697 Exact Energy: -14.93699\n",
            "All energies have been calculated\n"
          ]
        }
      ]
    },
    {
      "cell_type": "markdown",
      "source": [
        "### **Result Plot:**"
      ],
      "metadata": {
        "id": "QewnLi38lXeP"
      }
    },
    {
      "cell_type": "code",
      "source": [
        "plt.plot(distances, exact_energies, label=\"Exact Energy\", color = 'red')\n",
        "plt.plot(distances, vqe_energies, label=\"VQE Energy\", color='blue', linestyle='dashed')\n",
        "plt.xlabel('Atomic distance (Angstrom)')\n",
        "plt.ylabel('Energy')\n",
        "plt.title('Ground State Energy of BeH2 Molecule')\n",
        "plt.legend()\n",
        "plt.show()"
      ],
      "metadata": {
        "colab": {
          "base_uri": "https://localhost:8080/",
          "height": 307
        },
        "id": "aA7vJ-GYQH3L",
        "outputId": "3e81b102-dffe-4bef-8c47-960608b7836e"
      },
      "execution_count": 222,
      "outputs": [
        {
          "output_type": "display_data",
          "data": {
            "text/plain": [
              "<Figure size 432x288 with 1 Axes>"
            ],
            "image/png": "[encoded data removed]"
          },
          "metadata": {
            "needs_background": "light"
          }
        }
      ]
    },
    {
      "cell_type": "markdown",
      "source": [
        "### **Conclusion:**\n",
        "VQE algorithm gives an excellent approximation of actual ground state energy of $BeH_2$ Molecule at every given bond length."
      ],
      "metadata": {
        "id": "fMy_ottanE9-"
      }
    },
    {
      "cell_type": "markdown",
      "source": [
        "### **Appendices:**\n",
        "The visualisation of the Ansatz used for VQE is given Below."
      ],
      "metadata": {
        "id": "qJvtLJUdn6ee"
      }
    },
    {
      "cell_type": "code",
      "source": [
        "ansatz = get_ansatz(4)\n",
        "ansatz.decompose().draw(\"mpl\", style=\"iqx\")"
      ],
      "metadata": {
        "colab": {
          "base_uri": "https://localhost:8080/",
          "height": 231
        },
        "id": "IXqm2ssYoN_s",
        "outputId": "afe860e0-f123-4984-eb03-3bf80c531975"
      },
      "execution_count": 226,
      "outputs": [
        {
          "output_type": "execute_result",
          "data": {
            "text/plain": [
              "<Figure size 628.397x264.88 with 1 Axes>"
            ],
            "image/png": "[encoded data removed]"
          },
          "metadata": {},
          "execution_count": 226
        }
      ]
    },
    {
      "cell_type": "markdown",
      "source": [
        "### **References:**\n",
        "> https://pubchem.ncbi.nlm.nih.gov/compound/Beryllium-hydride\n",
        "> https://qiskit.org/documentation/nature/tutorials/07_leveraging_qiskit_runtime.html\n",
        "> https://qiskit.org/documentation/nature/tutorials/03_ground_state_solvers.html"
      ],
      "metadata": {
        "id": "7oV0i4F7mSdM"
      }
    },
    {
      "cell_type": "code",
      "source": [
        "%qiskit_version_table"
      ],
      "metadata": {
        "colab": {
          "base_uri": "https://localhost:8080/",
          "height": 357
        },
        "id": "fKvtWe2nkovg",
        "outputId": "1c3f6671-feec-41a8-a61d-bdba5f228ed2"
      },
      "execution_count": 223,
      "outputs": [
        {
          "output_type": "display_data",
          "data": {
            "text/plain": [
              "<IPython.core.display.HTML object>"
            ],
            "text/html": [
              "<h3>Version Information</h3><table><tr><th>Qiskit Software</th><th>Version</th></tr><tr><td><code>qiskit-terra</code></td><td>0.23.2</td></tr><tr><td><code>qiskit-aer</code></td><td>0.11.2</td></tr><tr><td><code>qiskit-ibmq-provider</code></td><td>0.20.1</td></tr><tr><td><code>qiskit</code></td><td>0.41.1</td></tr><tr><td><code>qiskit-nature</code></td><td>0.5.2</td></tr><tr><th>System information</th></tr><tr><td>Python version</td><td>3.8.10</td></tr><tr><td>Python compiler</td><td>GCC 9.4.0</td></tr><tr><td>Python build</td><td>default, Nov 14 2022 12:59:47</td></tr><tr><td>OS</td><td>Linux</td></tr><tr><td>CPUs</td><td>1</td></tr><tr><td>Memory (Gb)</td><td>12.681198120117188</td></tr><tr><td colspan='2'>Tue Feb 28 19:49:56 2023 UTC</td></tr></table>"
            ]
          },
          "metadata": {}
        }
      ]
    }
  ]
}